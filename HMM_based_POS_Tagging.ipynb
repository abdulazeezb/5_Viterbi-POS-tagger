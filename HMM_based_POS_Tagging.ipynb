{
 "cells": [
  {
   "cell_type": "markdown",
   "metadata": {},
   "source": [
    "## POS tagging using modified Viterbi"
   ]
  },
  {
   "cell_type": "markdown",
   "metadata": {},
   "source": [
    "### Problem Statement"
   ]
  },
  {
   "cell_type": "markdown",
   "metadata": {},
   "source": [
    "- The vanilla Viterbi algorithm we had written had resulted in ~87% accuracy. \n",
    "- The approx. 13% loss of accuracy was majorly due to the fact that when the algorithm encountered an unknown word (i.e. not present in the training set, such as 'Twitter'), it assigned an incorrect tag arbitrarily. \n",
    "- This is because, for unknown words, the emission probabilities for all candidate tags are 0, so the algorithm arbitrarily chooses (the first) tag.\n",
    "\n",
    "You need to accomplish the following in this assignment:\n",
    "\n",
    "- the vanilla Viterbi algorithm for assigning POS tags (i.e. without dealing with unknown words) \n",
    "- Solve the problem of unknown words using at least two techniques. These techniques can use any of the approaches discussed in the class - lexicon, rule-based, probabilistic etc. Note that to implement these techniques, you can either write separate functions and call them from the main Viterbi algorithm, or modify the Viterbi algorithm, or both.\n",
    "- Compare the tagging accuracy after making these modifications with the vanilla Viterbi algorithm.\n",
    "- List down at least three cases from the sample test file (i.e. unknown word-tag pairs) which were incorrectly tagged by the  - original Viterbi POS tagger and got corrected after your modifications."
   ]
  },
  {
   "cell_type": "markdown",
   "metadata": {},
   "source": [
    "### Data Preparation"
   ]
  },
  {
   "cell_type": "code",
   "execution_count": 5,
   "metadata": {},
   "outputs": [
    {
     "name": "stderr",
     "output_type": "stream",
     "text": [
      "[nltk_data] Downloading package averaged_perceptron_tagger to\n",
      "[nltk_data]     C:\\Users\\abdulazeez.basheerah\\AppData\\Roaming\\nltk_dat\n",
      "[nltk_data]     a...\n",
      "[nltk_data]   Package averaged_perceptron_tagger is already up-to-\n",
      "[nltk_data]       date!\n",
      "[nltk_data] Downloading package punkt to\n",
      "[nltk_data]     C:\\Users\\abdulazeez.basheerah\\AppData\\Roaming\\nltk_dat\n",
      "[nltk_data]     a...\n",
      "[nltk_data]   Package punkt is already up-to-date!\n"
     ]
    }
   ],
   "source": [
    "#Importing libraries\n",
    "import nltk\n",
    "nltk.download('averaged_perceptron_tagger')\n",
    "nltk.download('punkt')\n",
    "from nltk import word_tokenize\n",
    "from nltk import RegexpTagger, UnigramTagger, BigramTagger\n",
    "from pprint import pprint\n",
    "import pandas as pd\n",
    "import numpy as np \n",
    "import matplotlib.pyplot as plt \n",
    "import seaborn as sns\n",
    "import random\n",
    "import time\n",
    "from collections import Counter\n",
    "from sklearn.model_selection import train_test_split\n",
    "# incase if any libraries required Kindly run the below code:\n",
    "# nltk.download()"
   ]
  },
  {
   "cell_type": "code",
   "execution_count": 6,
   "metadata": {},
   "outputs": [],
   "source": [
    "# reading the Treebank tagged sentences\n",
    "nltk_data = list(nltk.corpus.treebank.tagged_sents(tagset='universal'))"
   ]
  },
  {
   "cell_type": "markdown",
   "metadata": {},
   "source": [
    "## Exploratory Data Analysis"
   ]
  },
  {
   "cell_type": "code",
   "execution_count": 7,
   "metadata": {},
   "outputs": [
    {
     "name": "stdout",
     "output_type": "stream",
     "text": [
      "Type of DataSet: <class 'list'>\n",
      "Type of First Element: <class 'list'>\n",
      "Type of First Element's Element: <class 'tuple'>\n"
     ]
    }
   ],
   "source": [
    "print(\"Type of DataSet: {}\".format(type(nltk_data)))\n",
    "print(\"Type of First Element: {}\".format(type(nltk_data[0])))\n",
    "print(\"Type of First Element's Element: {}\".format(type(nltk_data[0][0])))"
   ]
  },
  {
   "cell_type": "code",
   "execution_count": 8,
   "metadata": {
    "scrolled": true
   },
   "outputs": [
    {
     "name": "stdout",
     "output_type": "stream",
     "text": [
      "(\"First Element: [('Pierre', 'NOUN'), ('Vinken', 'NOUN'), (',', '.'), ('61', \"\n",
      " \"'NUM'), ('years', 'NOUN'), ('old', 'ADJ'), (',', '.'), ('will', 'VERB'), \"\n",
      " \"('join', 'VERB'), ('the', 'DET'), ('board', 'NOUN'), ('as', 'ADP'), ('a', \"\n",
      " \"'DET'), ('nonexecutive', 'ADJ'), ('director', 'NOUN'), ('Nov.', 'NOUN'), \"\n",
      " \"('29', 'NUM'), ('.', '.')]\")\n"
     ]
    }
   ],
   "source": [
    "pprint(\"First Element: {}\".format((nltk_data[0])))"
   ]
  },
  {
   "cell_type": "markdown",
   "metadata": {},
   "source": [
    "<font color = 'blue'>Since all the values are in different case, will update all values to lower case"
   ]
  },
  {
   "cell_type": "code",
   "execution_count": 9,
   "metadata": {},
   "outputs": [],
   "source": [
    "lower = []\n",
    "for text in nltk_data:\n",
    "    l = []\n",
    "    for x,y in text:\n",
    "        l.append((x.lower(),y.lower()))\n",
    "    lower.append(l)\n",
    "nltk_data = lower"
   ]
  },
  {
   "cell_type": "code",
   "execution_count": 10,
   "metadata": {},
   "outputs": [
    {
     "name": "stdout",
     "output_type": "stream",
     "text": [
      "Length of Total Tagged words: 100676\n",
      "\n",
      "Sample Tokens: ['pierre', 'vinken', ',', '61', 'years']\n",
      "\n",
      "Unique length of tokens: 11387 \n",
      "\n",
      "Unique length of TAGS: 12\n",
      "\n",
      "Tags: {'.', 'noun', 'det', 'x', 'adv', 'prt', 'verb', 'conj', 'adp', 'adj', 'num', 'pron'}\n"
     ]
    }
   ],
   "source": [
    "# Getting list of tagged words\n",
    "tagged_words = [tup for sent in nltk_data for tup in sent]\n",
    "print(f\"Length of Total Tagged words: {len(tagged_words)}\\n\")\n",
    "\n",
    "# tokens \n",
    "tokens = [pair[0] for pair in tagged_words]\n",
    "print(f\"Sample Tokens: {tokens[:5]}\\n\")\n",
    "\n",
    "# vocabulary\n",
    "V = set(tokens)\n",
    "print(f\"Unique length of tokens: {len(V)} \\n\")\n",
    "\n",
    "# number of tags\n",
    "T = set([pair[1] for pair in tagged_words])\n",
    "print(f\"Unique length of TAGS: {len(T)}\\n\")\n",
    "\n",
    "print(f\"Tags: {T}\")"
   ]
  },
  {
   "cell_type": "code",
   "execution_count": 11,
   "metadata": {
    "scrolled": true
   },
   "outputs": [
    {
     "name": "stdout",
     "output_type": "stream",
     "text": [
      "[('noun', 28867), ('verb', 13564), ('.', 11715), ('adp', 9857), ('det', 8725)]\n"
     ]
    }
   ],
   "source": [
    "tag_counts = nltk.FreqDist(tag for (word, tag) in tagged_words)\n",
    "print(tag_counts.most_common(5))"
   ]
  },
  {
   "cell_type": "code",
   "execution_count": 12,
   "metadata": {
    "scrolled": false
   },
   "outputs": [
    {
     "data": {
      "image/png": "[encoded data removed]",
      "text/plain": [
       "<Figure size 432x288 with 1 Axes>"
      ]
     },
     "metadata": {
      "needs_background": "light"
     },
     "output_type": "display_data"
    }
   ],
   "source": [
    "tag_counts.plot()"
   ]
  },
  {
   "cell_type": "markdown",
   "metadata": {},
   "source": [
    "#### <font color = 'blue'> We could clearly see that most of the word belong to noun\n",
    "\n",
    "###### <font color= 'blue'> Let's understand all the tags and look into the distribution"
   ]
  },
  {
   "cell_type": "markdown",
   "metadata": {},
   "source": [
    "###### Noun:"
   ]
  },
  {
   "cell_type": "markdown",
   "metadata": {},
   "source": [
    "#### <font color = 'blue'> Let's inspect some tagged text to see what parts of speech occur before a NOUN, with the most frequent ones first."
   ]
  },
  {
   "cell_type": "code",
   "execution_count": 13,
   "metadata": {
    "scrolled": true
   },
   "outputs": [
    {
     "data": {
      "image/png": "[encoded data removed]",
      "text/plain": [
       "<Figure size 432x288 with 1 Axes>"
      ]
     },
     "metadata": {
      "needs_background": "light"
     },
     "output_type": "display_data"
    }
   ],
   "source": [
    "word_tag_pairs = nltk.bigrams(tagged_words)\n",
    "noun_preceders = [a[1] for (a, b) in word_tag_pairs if b[1] == 'noun']\n",
    "fdist = nltk.FreqDist(noun_preceders)\n",
    "fdist.plot()"
   ]
  },
  {
   "cell_type": "markdown",
   "metadata": {},
   "source": [
    "##### <font color ='blue'> This confirms our assertion that nouns occur after determiners and adjectives, including numeral adjectives (tagged as NUM).Sometimes consecutive nouns due to Names"
   ]
  },
  {
   "cell_type": "markdown",
   "metadata": {},
   "source": [
    "## Verb:"
   ]
  },
  {
   "cell_type": "code",
   "execution_count": 14,
   "metadata": {},
   "outputs": [
    {
     "data": {
      "image/png": "[encoded data removed]",
      "text/plain": [
       "<Figure size 432x288 with 1 Axes>"
      ]
     },
     "metadata": {
      "needs_background": "light"
     },
     "output_type": "display_data"
    }
   ],
   "source": [
    "word_tag_pairs = nltk.bigrams(tagged_words)\n",
    "verb_preceders = [a[1] for (a, b) in word_tag_pairs if b[1] == 'verb']\n",
    "fdist = nltk.FreqDist(verb_preceders)\n",
    "fdist.plot()"
   ]
  },
  {
   "cell_type": "code",
   "execution_count": 15,
   "metadata": {
    "scrolled": true
   },
   "outputs": [
    {
     "data": {
      "text/plain": [
       "[('is', 672), ('said', 628), ('was', 367), ('are', 367), ('be', 356)]"
      ]
     },
     "execution_count": 15,
     "metadata": {},
     "output_type": "execute_result"
    }
   ],
   "source": [
    "word_tag_fd = nltk.FreqDist(tagged_words)\n",
    "\n",
    "cfd2 = nltk.ConditionalFreqDist((tag, word) for (word, tag) in tagged_words)\n",
    "\n",
    "fdist = nltk.FreqDist(cfd2['verb'])\n",
    "fdist.most_common(5)"
   ]
  },
  {
   "cell_type": "markdown",
   "metadata": {},
   "source": [
    "### <font color ='blue'> The above are the most common verbs in Universal Data Set"
   ]
  },
  {
   "cell_type": "markdown",
   "metadata": {},
   "source": [
    "## Adjectives and Adverbs"
   ]
  },
  {
   "cell_type": "code",
   "execution_count": 16,
   "metadata": {},
   "outputs": [
    {
     "data": {
      "text/plain": [
       "[(\"n't\", 325), ('also', 163), ('not', 140), ('when', 98), ('more', 88)]"
      ]
     },
     "execution_count": 16,
     "metadata": {},
     "output_type": "execute_result"
    }
   ],
   "source": [
    "word_tag_fd = nltk.FreqDist(tagged_words)\n",
    "\n",
    "cfd2 = nltk.ConditionalFreqDist((tag, word) for (word, tag) in tagged_words)\n",
    "\n",
    "fdist = nltk.FreqDist(cfd2['adv'])\n",
    "fdist.most_common(5)"
   ]
  },
  {
   "cell_type": "code",
   "execution_count": 17,
   "metadata": {
    "scrolled": true
   },
   "outputs": [
    {
     "name": "stdout",
     "output_type": "stream",
     "text": [
      "['pierre vinken , 61 years old , will join the board as a nonexecutive '\n",
      " 'director nov. 29 .',\n",
      " 'mr. vinken is chairman of elsevier n.v. , the dutch publishing group .']\n"
     ]
    }
   ],
   "source": [
    "# Creating Sample Sentence\n",
    "sample_corpus = []\n",
    "for i in range(0, len(nltk_data)):\n",
    "    temp_list = []\n",
    "    for j in range(0, len(nltk_data[i])):\n",
    "        temp_list.append((nltk_data[i][j][0]))\n",
    "    sample_corpus.append(\" \".join(temp_list))\n",
    "pprint(sample_corpus[0:2])"
   ]
  },
  {
   "cell_type": "code",
   "execution_count": 18,
   "metadata": {},
   "outputs": [
    {
     "name": "stdout",
     "output_type": "stream",
     "text": [
      "Len of WORD: 100676\n",
      "Len of TAG: 100676\n"
     ]
    }
   ],
   "source": [
    "# converting the corpus into a dataFrame\n",
    "temp_list_wrod = []\n",
    "temp_list_tag = []\n",
    "for i in range(0, len(nltk_data)):\n",
    "    for j in range(0, len(nltk_data[i])):\n",
    "        temp_list_wrod.append((nltk_data[i][j][0]))\n",
    "        temp_list_tag.append((nltk_data[i][j][1]))\n",
    "print(f\"Len of WORD: {len(temp_list_wrod)}\")\n",
    "print(f\"Len of TAG: {len(temp_list_tag)}\")"
   ]
  },
  {
   "cell_type": "code",
   "execution_count": 19,
   "metadata": {},
   "outputs": [
    {
     "data": {
      "text/plain": [
       "TAG      object\n",
       "count     int64\n",
       "dtype: object"
      ]
     },
     "execution_count": 19,
     "metadata": {},
     "output_type": "execute_result"
    }
   ],
   "source": [
    "corpusDF = pd.DataFrame(list(zip(temp_list_wrod, temp_list_tag)),columns =['WORD', 'TAG'])\n",
    "gp = corpusDF.groupby('TAG')\n",
    "count_df  = pd.DataFrame(gp['TAG'].count().reset_index(name = \"count\"))\n",
    "count_df.sort_values(by = 'count',ascending = False, inplace = True)\n",
    "count_df.dtypes"
   ]
  },
  {
   "cell_type": "code",
   "execution_count": 20,
   "metadata": {},
   "outputs": [
    {
     "data": {
      "image/png": "[encoded data removed]",
      "text/plain": [
       "<Figure size 432x288 with 1 Axes>"
      ]
     },
     "metadata": {
      "needs_background": "light"
     },
     "output_type": "display_data"
    }
   ],
   "source": [
    "sns.barplot(x = 'TAG', y= 'count', data = count_df)\n",
    "plt.show()"
   ]
  },
  {
   "cell_type": "markdown",
   "metadata": {},
   "source": [
    "### Preprocessing Steps:"
   ]
  },
  {
   "cell_type": "code",
   "execution_count": 21,
   "metadata": {},
   "outputs": [
    {
     "name": "stdout",
     "output_type": "stream",
     "text": [
      "Length of the Train Set: 3718\n",
      "Length of the Validation Set:196\n"
     ]
    }
   ],
   "source": [
    "# Splitting into train and test\n",
    "train_set, valid_set = train_test_split(nltk_data,test_size=0.05,random_state = 66)\n",
    "print(f\"Length of the Train Set: {len(train_set)}\")\n",
    "print(f\"Length of the Validation Set:{len(valid_set)}\")"
   ]
  },
  {
   "cell_type": "markdown",
   "metadata": {},
   "source": [
    "<font color = 'blue'> Splited Data Set into train and Test"
   ]
  },
  {
   "cell_type": "code",
   "execution_count": 22,
   "metadata": {},
   "outputs": [
    {
     "name": "stdout",
     "output_type": "stream",
     "text": [
      "Length of Train tagged Words: 95662\n",
      "Train Tokens: ['program', 'trading', 'critics', 'also', 'want']\n",
      "\n",
      "Unique length of tokens: 11387\n"
     ]
    }
   ],
   "source": [
    "# Getting list of tagged words\n",
    "train_tagged_words = [tup for sent in train_set for tup in sent]\n",
    "print(f\"Length of Train tagged Words: {len(train_tagged_words)}\")\n",
    "\n",
    "# tokens \n",
    "train_tokens = [pair[0] for pair in train_tagged_words]\n",
    "print(f\"Train Tokens: {train_tokens[:5]}\\n\")\n",
    "\n",
    "# vocabulary\n",
    "train_V = set(tokens)\n",
    "print(f\"Unique length of tokens: {len(train_V)}\")"
   ]
  },
  {
   "cell_type": "code",
   "execution_count": 23,
   "metadata": {},
   "outputs": [],
   "source": [
    "# Running on entire test dataset would take more than 3-4hrs. \n",
    "# Let's test our Viterbi algorithm on a few sample sentences of test dataset\n",
    "# choose random 5 sents\n",
    "\n",
    "rndom = [14,69,23,105,69]\n",
    "# list of sents\n",
    "test_run = [valid_set[i] for i in rndom]\n",
    "\n",
    "# list of tagged words\n",
    "test_run_base = [tup for sent in test_run for tup in sent]\n",
    "\n",
    "# list of untagged words\n",
    "test_tagged_words = [tup[0] for sent in test_run for tup in sent]"
   ]
  },
  {
   "cell_type": "markdown",
   "metadata": {},
   "source": [
    "## User Defined Functions"
   ]
  },
  {
   "cell_type": "code",
   "execution_count": 24,
   "metadata": {},
   "outputs": [],
   "source": [
    "def compute_stringMatirx():\n",
    "    # computing P(w/t) and storing in T x V matrix\n",
    "        t = len(T)\n",
    "        v = len(V)\n",
    "        w_given_t = np.zeros((t, v))\n",
    "        \n",
    "        \n",
    "# compute word given tag: Emission Probability\n",
    "def word_given_tag(word, tag, train_bag = train_tagged_words):\n",
    "    tag_list = [pair for pair in train_bag if pair[1]==tag]\n",
    "    count_tag = len(tag_list)\n",
    "    w_given_tag_list = [pair[0] for pair in tag_list if pair[0]==word]\n",
    "    count_w_given_tag = len(w_given_tag_list)\n",
    "    return (count_w_given_tag, count_tag)\n",
    "\n",
    "# compute tag given tag: tag2(t2) given tag1 (t1), i.e. Transition Probability\n",
    "def t2_given_t1(t2, t1, train_bag = train_tagged_words):\n",
    "    tags = [pair[1] for pair in train_bag]\n",
    "    count_t1 = len([t for t in tags if t==t1])\n",
    "    count_t2_t1 = 0\n",
    "    for index in range(len(tags)-1):\n",
    "        if tags[index]==t1 and tags[index+1] == t2:\n",
    "            count_t2_t1 += 1\n",
    "    return (count_t2_t1, count_t1)\n",
    "\n",
    "def createTaggedMatrix():\n",
    "    # creating t x t transition matrix of tags\n",
    "    tags_matrix = np.zeros((len(T), len(T)), dtype='float32')\n",
    "    for i, t1 in enumerate(list(T)):\n",
    "        for j, t2 in enumerate(list(T)): \n",
    "            tags_matrix[i, j] = t2_given_t1(t2, t1)[0]/t2_given_t1(t2, t1)[1]\n",
    "    # convert the matrix to a df for better readability\n",
    "    return pd.DataFrame(tags_matrix, columns = list(T), index=list(T))\n",
    "\n",
    "# to Sort the Tuples\n",
    "def Sort_Tuple(tup):  \n",
    "    tup.sort(key = lambda x: x[1]) \n",
    "    return tup \n",
    "\n",
    "# to find the incorrect words\n",
    "def find_incorrectWord(tagged_seq ,test_run_base = test_run_base):\n",
    "    incorrect_tagged_cases = [[test_run_base[i-1],j] for i, j in enumerate(zip(tagged_seq, test_run_base)) if j[0]!=j[1]]\n",
    "    \n",
    "    # Let's check how many them are know word\n",
    "    known_words = [word[1][0][0] for word in incorrect_tagged_cases  if word[1][0][0] in train_tokens]\n",
    "    \n",
    "    # Let's check how many them are unknow word\n",
    "    unknown_words = [word[1][0][0] for word in incorrect_tagged_cases  if word[1][0][0] not in train_tokens]\n",
    "    \n",
    "    incorrectTags = [word for word in incorrect_tagged_cases  if word[1][0][0] not in train_tokens]\n",
    "    return Sort_Tuple(incorrect_tagged_cases), known_words, unknown_words, Sort_Tuple(incorrectTags)"
   ]
  },
  {
   "cell_type": "code",
   "execution_count": 25,
   "metadata": {
    "scrolled": false
   },
   "outputs": [
    {
     "data": {
      "text/html": [
       "<div>\n",
       "<style scoped>\n",
       "    .dataframe tbody tr th:only-of-type {\n",
       "        vertical-align: middle;\n",
       "    }\n",
       "\n",
       "    .dataframe tbody tr th {\n",
       "        vertical-align: top;\n",
       "    }\n",
       "\n",
       "    .dataframe thead th {\n",
       "        text-align: right;\n",
       "    }\n",
       "</style>\n",
       "<table border=\"1\" class=\"dataframe\">\n",
       "  <thead>\n",
       "    <tr style=\"text-align: right;\">\n",
       "      <th></th>\n",
       "      <th>.</th>\n",
       "      <th>noun</th>\n",
       "      <th>det</th>\n",
       "      <th>x</th>\n",
       "      <th>adv</th>\n",
       "      <th>prt</th>\n",
       "      <th>verb</th>\n",
       "      <th>conj</th>\n",
       "      <th>adp</th>\n",
       "      <th>adj</th>\n",
       "      <th>num</th>\n",
       "      <th>pron</th>\n",
       "    </tr>\n",
       "  </thead>\n",
       "  <tbody>\n",
       "    <tr>\n",
       "      <th>.</th>\n",
       "      <td>0.092858</td>\n",
       "      <td>0.222950</td>\n",
       "      <td>0.172618</td>\n",
       "      <td>0.027185</td>\n",
       "      <td>0.052395</td>\n",
       "      <td>0.002512</td>\n",
       "      <td>0.089270</td>\n",
       "      <td>0.058137</td>\n",
       "      <td>0.090257</td>\n",
       "      <td>0.044231</td>\n",
       "      <td>0.080926</td>\n",
       "      <td>0.066571</td>\n",
       "    </tr>\n",
       "    <tr>\n",
       "      <th>noun</th>\n",
       "      <td>0.240789</td>\n",
       "      <td>0.265061</td>\n",
       "      <td>0.013557</td>\n",
       "      <td>0.029338</td>\n",
       "      <td>0.016947</td>\n",
       "      <td>0.043660</td>\n",
       "      <td>0.145887</td>\n",
       "      <td>0.042494</td>\n",
       "      <td>0.176282</td>\n",
       "      <td>0.011844</td>\n",
       "      <td>0.009621</td>\n",
       "      <td>0.004519</td>\n",
       "    </tr>\n",
       "    <tr>\n",
       "      <th>det</th>\n",
       "      <td>0.018094</td>\n",
       "      <td>0.636188</td>\n",
       "      <td>0.005549</td>\n",
       "      <td>0.046080</td>\n",
       "      <td>0.013028</td>\n",
       "      <td>0.000241</td>\n",
       "      <td>0.039324</td>\n",
       "      <td>0.000483</td>\n",
       "      <td>0.009530</td>\n",
       "      <td>0.204825</td>\n",
       "      <td>0.023040</td>\n",
       "      <td>0.003619</td>\n",
       "    </tr>\n",
       "    <tr>\n",
       "      <th>x</th>\n",
       "      <td>0.164497</td>\n",
       "      <td>0.062877</td>\n",
       "      <td>0.053668</td>\n",
       "      <td>0.074944</td>\n",
       "      <td>0.025405</td>\n",
       "      <td>0.184344</td>\n",
       "      <td>0.204351</td>\n",
       "      <td>0.010480</td>\n",
       "      <td>0.144649</td>\n",
       "      <td>0.016990</td>\n",
       "      <td>0.002858</td>\n",
       "      <td>0.054938</td>\n",
       "    </tr>\n",
       "    <tr>\n",
       "      <th>adv</th>\n",
       "      <td>0.133887</td>\n",
       "      <td>0.031561</td>\n",
       "      <td>0.069103</td>\n",
       "      <td>0.022924</td>\n",
       "      <td>0.078738</td>\n",
       "      <td>0.014618</td>\n",
       "      <td>0.349169</td>\n",
       "      <td>0.006977</td>\n",
       "      <td>0.118605</td>\n",
       "      <td>0.129568</td>\n",
       "      <td>0.029568</td>\n",
       "      <td>0.015282</td>\n",
       "    </tr>\n",
       "    <tr>\n",
       "      <th>prt</th>\n",
       "      <td>0.042623</td>\n",
       "      <td>0.246885</td>\n",
       "      <td>0.099344</td>\n",
       "      <td>0.013443</td>\n",
       "      <td>0.009836</td>\n",
       "      <td>0.001311</td>\n",
       "      <td>0.402295</td>\n",
       "      <td>0.001967</td>\n",
       "      <td>0.020328</td>\n",
       "      <td>0.085574</td>\n",
       "      <td>0.058361</td>\n",
       "      <td>0.018033</td>\n",
       "    </tr>\n",
       "    <tr>\n",
       "      <th>verb</th>\n",
       "      <td>0.034563</td>\n",
       "      <td>0.109903</td>\n",
       "      <td>0.134835</td>\n",
       "      <td>0.218097</td>\n",
       "      <td>0.082097</td>\n",
       "      <td>0.031146</td>\n",
       "      <td>0.168854</td>\n",
       "      <td>0.005515</td>\n",
       "      <td>0.090563</td>\n",
       "      <td>0.065476</td>\n",
       "      <td>0.022990</td>\n",
       "      <td>0.035961</td>\n",
       "    </tr>\n",
       "    <tr>\n",
       "      <th>conj</th>\n",
       "      <td>0.035332</td>\n",
       "      <td>0.349140</td>\n",
       "      <td>0.118550</td>\n",
       "      <td>0.007438</td>\n",
       "      <td>0.054393</td>\n",
       "      <td>0.005114</td>\n",
       "      <td>0.156671</td>\n",
       "      <td>0.000465</td>\n",
       "      <td>0.054393</td>\n",
       "      <td>0.117620</td>\n",
       "      <td>0.041841</td>\n",
       "      <td>0.059042</td>\n",
       "    </tr>\n",
       "    <tr>\n",
       "      <th>adp</th>\n",
       "      <td>0.039581</td>\n",
       "      <td>0.320817</td>\n",
       "      <td>0.325631</td>\n",
       "      <td>0.034767</td>\n",
       "      <td>0.013265</td>\n",
       "      <td>0.001391</td>\n",
       "      <td>0.008023</td>\n",
       "      <td>0.000856</td>\n",
       "      <td>0.017330</td>\n",
       "      <td>0.106975</td>\n",
       "      <td>0.062687</td>\n",
       "      <td>0.068678</td>\n",
       "    </tr>\n",
       "    <tr>\n",
       "      <th>adj</th>\n",
       "      <td>0.064277</td>\n",
       "      <td>0.699819</td>\n",
       "      <td>0.005096</td>\n",
       "      <td>0.021207</td>\n",
       "      <td>0.004603</td>\n",
       "      <td>0.010521</td>\n",
       "      <td>0.011836</td>\n",
       "      <td>0.016439</td>\n",
       "      <td>0.077758</td>\n",
       "      <td>0.067072</td>\n",
       "      <td>0.020713</td>\n",
       "      <td>0.000658</td>\n",
       "    </tr>\n",
       "    <tr>\n",
       "      <th>num</th>\n",
       "      <td>0.117874</td>\n",
       "      <td>0.354513</td>\n",
       "      <td>0.002969</td>\n",
       "      <td>0.210214</td>\n",
       "      <td>0.002672</td>\n",
       "      <td>0.027613</td>\n",
       "      <td>0.018705</td>\n",
       "      <td>0.013658</td>\n",
       "      <td>0.035036</td>\n",
       "      <td>0.034442</td>\n",
       "      <td>0.180819</td>\n",
       "      <td>0.001485</td>\n",
       "    </tr>\n",
       "    <tr>\n",
       "      <th>pron</th>\n",
       "      <td>0.040707</td>\n",
       "      <td>0.209677</td>\n",
       "      <td>0.008833</td>\n",
       "      <td>0.092166</td>\n",
       "      <td>0.034946</td>\n",
       "      <td>0.011905</td>\n",
       "      <td>0.485791</td>\n",
       "      <td>0.005376</td>\n",
       "      <td>0.023041</td>\n",
       "      <td>0.072581</td>\n",
       "      <td>0.007296</td>\n",
       "      <td>0.007680</td>\n",
       "    </tr>\n",
       "  </tbody>\n",
       "</table>\n",
       "</div>"
      ],
      "text/plain": [
       "             .      noun       det         x       adv       prt      verb  \\\n",
       ".     0.092858  0.222950  0.172618  0.027185  0.052395  0.002512  0.089270   \n",
       "noun  0.240789  0.265061  0.013557  0.029338  0.016947  0.043660  0.145887   \n",
       "det   0.018094  0.636188  0.005549  0.046080  0.013028  0.000241  0.039324   \n",
       "x     0.164497  0.062877  0.053668  0.074944  0.025405  0.184344  0.204351   \n",
       "adv   0.133887  0.031561  0.069103  0.022924  0.078738  0.014618  0.349169   \n",
       "prt   0.042623  0.246885  0.099344  0.013443  0.009836  0.001311  0.402295   \n",
       "verb  0.034563  0.109903  0.134835  0.218097  0.082097  0.031146  0.168854   \n",
       "conj  0.035332  0.349140  0.118550  0.007438  0.054393  0.005114  0.156671   \n",
       "adp   0.039581  0.320817  0.325631  0.034767  0.013265  0.001391  0.008023   \n",
       "adj   0.064277  0.699819  0.005096  0.021207  0.004603  0.010521  0.011836   \n",
       "num   0.117874  0.354513  0.002969  0.210214  0.002672  0.027613  0.018705   \n",
       "pron  0.040707  0.209677  0.008833  0.092166  0.034946  0.011905  0.485791   \n",
       "\n",
       "          conj       adp       adj       num      pron  \n",
       ".     0.058137  0.090257  0.044231  0.080926  0.066571  \n",
       "noun  0.042494  0.176282  0.011844  0.009621  0.004519  \n",
       "det   0.000483  0.009530  0.204825  0.023040  0.003619  \n",
       "x     0.010480  0.144649  0.016990  0.002858  0.054938  \n",
       "adv   0.006977  0.118605  0.129568  0.029568  0.015282  \n",
       "prt   0.001967  0.020328  0.085574  0.058361  0.018033  \n",
       "verb  0.005515  0.090563  0.065476  0.022990  0.035961  \n",
       "conj  0.000465  0.054393  0.117620  0.041841  0.059042  \n",
       "adp   0.000856  0.017330  0.106975  0.062687  0.068678  \n",
       "adj   0.016439  0.077758  0.067072  0.020713  0.000658  \n",
       "num   0.013658  0.035036  0.034442  0.180819  0.001485  \n",
       "pron  0.005376  0.023041  0.072581  0.007296  0.007680  "
      ]
     },
     "execution_count": 25,
     "metadata": {},
     "output_type": "execute_result"
    }
   ],
   "source": [
    "compute_stringMatirx()\n",
    "\n",
    "tags_df = createTaggedMatrix()\n",
    "tags_df"
   ]
  },
  {
   "cell_type": "markdown",
   "metadata": {},
   "source": [
    "### Build the vanilla Viterbi without handling unknown words"
   ]
  },
  {
   "cell_type": "code",
   "execution_count": 26,
   "metadata": {},
   "outputs": [],
   "source": [
    "# Venila Viterbi Heuristic\n",
    "def venila_Viterbi(words, train_bag = train_tagged_words):\n",
    "    state = []\n",
    "    T = list(set([pair[1] for pair in train_bag]))\n",
    "    for key, word in enumerate(words):\n",
    "        #initialise list of probability column for a given observation\n",
    "        p = [] \n",
    "        for tag in T:\n",
    "            if key == 0:\n",
    "                transition_p = tags_df.loc['.', tag]\n",
    "            else:\n",
    "                transition_p = tags_df.loc[state[-1], tag]\n",
    "            emission_p = word_given_tag(words[key], tag)[0]/word_given_tag(words[key], tag)[1]\n",
    "            state_probability = emission_p * transition_p \n",
    "            p.append(state_probability)\n",
    "        pmax = max(p)\n",
    "        state_max = T[p.index(pmax)] \n",
    "        state.append(state_max)\n",
    "    return list(zip(words, state))"
   ]
  },
  {
   "cell_type": "code",
   "execution_count": 27,
   "metadata": {},
   "outputs": [
    {
     "name": "stdout",
     "output_type": "stream",
     "text": [
      "Time taken in seconds:  60.70968151092529\n"
     ]
    }
   ],
   "source": [
    "# tagging the test sentences\n",
    "start = time.time()\n",
    "venila_tagged_seq = venila_Viterbi(test_tagged_words)\n",
    "end = time.time()\n",
    "print(\"Time taken in seconds: \", end - start)"
   ]
  },
  {
   "cell_type": "markdown",
   "metadata": {},
   "source": [
    "#### Evaluating tagging accuracy in Venila Viterbi"
   ]
  },
  {
   "cell_type": "code",
   "execution_count": 28,
   "metadata": {},
   "outputs": [
    {
     "name": "stdout",
     "output_type": "stream",
     "text": [
      "Accuracy of valid data in Venila Viterbi: 89.62\n"
     ]
    }
   ],
   "source": [
    "# accuracy\n",
    "check = [i for i, j in zip(venila_tagged_seq, test_run_base) if i == j] \n",
    "venila_accuracy = len(check)/len(venila_tagged_seq)\n",
    "print(f\"Accuracy of valid data in Venila Viterbi: {round(venila_accuracy *100,2)}\")"
   ]
  },
  {
   "cell_type": "code",
   "execution_count": 29,
   "metadata": {},
   "outputs": [
    {
     "name": "stdout",
     "output_type": "stream",
     "text": [
      "Words which are know and tagged incorrectly: \n",
      " ['earlier', 'that'] \n",
      "\n",
      "Words which are unknown and tagged incorrectly: \n",
      " ['adopting', 'training-wage', 'diming', 'conn.based', 'magnified', 'nonrecurring', '8.2', 'asset-valuation', 'adjustments', '6.4', 'pre-tax', 'conn.based', 'magnified', 'nonrecurring', '8.2', 'asset-valuation', 'adjustments'] \n",
      "\n"
     ]
    }
   ],
   "source": [
    "venila_incrrocet_Words,venila_known_words,venila_unknown_words,venila_unknown_tags = find_incorrectWord(venila_tagged_seq)\n",
    "\n",
    "print(\"Words which are know and tagged incorrectly: \\n\",venila_known_words,\"\\n\")\n",
    "\n",
    "print(\"Words which are unknown and tagged incorrectly: \\n\",venila_unknown_words,\"\\n\")"
   ]
  },
  {
   "cell_type": "markdown",
   "metadata": {},
   "source": [
    "<font color = 'blue'> These are the words which are tagged incorrectly"
   ]
  },
  {
   "cell_type": "markdown",
   "metadata": {},
   "source": [
    "### <font color = 'blue'> Let's update the venila viterbi and see how it performs for unknown words"
   ]
  },
  {
   "cell_type": "markdown",
   "metadata": {},
   "source": [
    "## Method 1 : Using Only Transition Probability for Viterbi to handle unknown words"
   ]
  },
  {
   "cell_type": "code",
   "execution_count": 30,
   "metadata": {},
   "outputs": [],
   "source": [
    "# Viterbi Heuristic with Only Transition Probablity for unknown Words \n",
    "def unknow_Trans_Viterbi(words, train_bag = train_tagged_words):\n",
    "    state = []\n",
    "    T = list(set([pair[1] for pair in train_bag]))\n",
    "    for key, word in enumerate(words):\n",
    "        #initialise list of probability column for a given observation\n",
    "        p = [] \n",
    "        transP =[]\n",
    "        for tag in T:\n",
    "            if key == 0:\n",
    "                transition_p = tags_df.loc['.', tag]\n",
    "            else:\n",
    "                transition_p = tags_df.loc[state[-1], tag]\n",
    "            emission_p = word_given_tag(words[key], tag)[0]/word_given_tag(words[key], tag)[1]\n",
    "            state_probability = emission_p * transition_p \n",
    "            p.append(state_probability)\n",
    " # Creating list of Transaction Probability\n",
    "            transP.append(transition_p)\n",
    " # calculating only if emission_p is Greater then zero \n",
    " # Else we will use only Transition Probability    \n",
    "        pmax = max(p)\n",
    "        if pmax == 0:\n",
    "            pmax = max(transP)\n",
    "            state_max = T[transP.index(pmax)]\n",
    "        else:\n",
    "            state_max = T[p.index(pmax)] \n",
    "        state.append(state_max)\n",
    "    return list(zip(words, state))"
   ]
  },
  {
   "cell_type": "code",
   "execution_count": 31,
   "metadata": {},
   "outputs": [
    {
     "name": "stdout",
     "output_type": "stream",
     "text": [
      "Time taken in seconds:  60.75867819786072\n"
     ]
    }
   ],
   "source": [
    "# tagging the test sentences\n",
    "start = time.time()\n",
    "unknow_trans_seq = unknow_Trans_Viterbi(test_tagged_words)\n",
    "end = time.time()\n",
    "print(\"Time taken in seconds: \", end - start)"
   ]
  },
  {
   "cell_type": "markdown",
   "metadata": {},
   "source": [
    "#### Evaluating tagging accuracy after using transition Probability"
   ]
  },
  {
   "cell_type": "code",
   "execution_count": 32,
   "metadata": {},
   "outputs": [
    {
     "name": "stdout",
     "output_type": "stream",
     "text": [
      "Accuracy of valid data after using transcition Probability: 91.8\n",
      "Increase in the Accuracy: 2.19\n"
     ]
    }
   ],
   "source": [
    "# accuracy\n",
    "check = [i for i, j in zip(unknow_trans_seq, test_run_base) if i == j] \n",
    "trans_accuracy = len(check)/len(unknow_trans_seq)\n",
    "\n",
    "print(f\"Accuracy of valid data after using transcition Probability: {round(trans_accuracy *100,2)}\")\n",
    "print(f\"Increase in the Accuracy: {round((trans_accuracy - venila_accuracy)*100 ,2)}\")"
   ]
  },
  {
   "cell_type": "code",
   "execution_count": 33,
   "metadata": {},
   "outputs": [
    {
     "data": {
      "text/plain": [
       "[[('$', '.'), (('6.4', 'noun'), ('6.4', 'num'))],\n",
       " [('$', '.'), (('8.2', 'noun'), ('8.2', 'num'))],\n",
       " [('$', '.'), (('8.2', 'noun'), ('8.2', 'num'))],\n",
       " [('in', 'adp'), (('asset-valuation', 'det'), ('asset-valuation', 'noun'))],\n",
       " [('in', 'adp'), (('asset-valuation', 'det'), ('asset-valuation', 'noun'))],\n",
       " [(',', '.'), (('conn.based', 'noun'), ('conn.based', 'adj'))],\n",
       " [(',', '.'), (('conn.based', 'noun'), ('conn.based', 'adj'))],\n",
       " [('year', 'noun'), (('earlier', 'adv'), ('earlier', 'adj'))],\n",
       " [('was', 'verb'), (('magnified', 'x'), ('magnified', 'verb'))],\n",
       " [('was', 'verb'), (('magnified', 'x'), ('magnified', 'verb'))],\n",
       " [('by', 'adp'), (('nonrecurring', 'det'), ('nonrecurring', 'verb'))],\n",
       " [('by', 'adp'), (('nonrecurring', 'det'), ('nonrecurring', 'verb'))],\n",
       " [('fourth-quarter', 'noun'), (('pre-tax', 'noun'), ('pre-tax', 'adj'))],\n",
       " [('estimated', 'verb'), (('that', 'det'), ('that', 'adp'))],\n",
       " [('a', 'det'), (('training-wage', 'noun'), ('training-wage', 'adj'))]]"
      ]
     },
     "execution_count": 33,
     "metadata": {},
     "output_type": "execute_result"
    }
   ],
   "source": [
    "trans_incorrect_Words,trans_known_words,trans_unknown_words,trans_unknown_tags = find_incorrectWord(unknow_trans_seq)\n",
    "trans_incorrect_Words"
   ]
  },
  {
   "cell_type": "markdown",
   "metadata": {},
   "source": [
    "<font color = 'blue'> These are the words which are tagged incorrectly after using Transition Porbability"
   ]
  },
  {
   "cell_type": "code",
   "execution_count": 34,
   "metadata": {
    "scrolled": true
   },
   "outputs": [
    {
     "name": "stdout",
     "output_type": "stream",
     "text": [
      "Words which are know and tagged incorrectly: \n",
      " ['earlier', 'that'] \n",
      "\n",
      "Words which are unknown and tagged incorrectly: \n",
      " ['training-wage', 'conn.based', 'magnified', 'nonrecurring', '8.2', 'asset-valuation', '6.4', 'pre-tax', 'conn.based', 'magnified', 'nonrecurring', '8.2', 'asset-valuation'] \n",
      "\n"
     ]
    }
   ],
   "source": [
    "print(\"Words which are know and tagged incorrectly: \\n\",trans_known_words,\"\\n\")\n",
    "\n",
    "print(\"Words which are unknown and tagged incorrectly: \\n\",trans_unknown_words,\"\\n\")\n"
   ]
  },
  {
   "cell_type": "markdown",
   "metadata": {},
   "source": [
    "## Method 2 : Rule Based:"
   ]
  },
  {
   "cell_type": "markdown",
   "metadata": {},
   "source": [
    "#### <font color = 'blue'> Will take first three sufix and create rules"
   ]
  },
  {
   "cell_type": "code",
   "execution_count": 35,
   "metadata": {
    "scrolled": true
   },
   "outputs": [
    {
     "name": "stdout",
     "output_type": "stream",
     "text": [
      ". [(',', 4885), ('.', 3828), ('$', 718), ('``', 702), (\"''\", 684)]\n",
      "noun [('ion', 1083), ('ers', 848), ('ing', 831), ('ent', 778), ('ons', 486)]\n",
      "det [('the', 4753), ('a', 1979), ('an', 335), ('hat', 334), ('his', 224)]\n",
      "x [('*-1', 2068), ('0', 1099), ('*', 965), ('*-2', 766), ('*u*', 744)]\n",
      "adv [(\"n't\", 325), ('lly', 204), ('lso', 163), ('tly', 159), ('not', 140)]\n",
      "prt [('to', 2179), (\"'s\", 761), ('up', 77), (\"'\", 63), ('out', 50)]\n",
      "verb [('ing', 1476), ('is', 672), ('aid', 653), ('ted', 617), ('are', 381)]\n",
      "conj [('and', 1549), ('but', 307), ('or', 294), ('&', 85), ('nor', 12)]\n",
      "adp [('of', 2325), ('in', 1749), ('for', 851), ('hat', 514), ('on', 500)]\n",
      "adj [('her', 202), ('ent', 189), ('ing', 186), ('ble', 185), ('ive', 177)]\n",
      "num [('ion', 547), ('000', 152), ('one', 140), ('two', 109), ('500', 54)]\n",
      "pron [('it', 577), ('its', 343), ('he', 303), ('hey', 263), ('eir', 184)]\n"
     ]
    }
   ],
   "source": [
    "for tag in T:\n",
    "    temp_counts = Counter([pair[0][-3:] for pairs in nltk_data for pair in pairs if pair[1]==tag])\n",
    "    print(tag,temp_counts.most_common(5))"
   ]
  },
  {
   "cell_type": "markdown",
   "metadata": {},
   "source": [
    "### used above observation to create Rules for Regex Tagger"
   ]
  },
  {
   "cell_type": "code",
   "execution_count": 36,
   "metadata": {},
   "outputs": [],
   "source": [
    "# Regex Tagger\n",
    "def regexTag(word):\n",
    "    patterns = [(r'.*ion$', 'noun'),(r'.*ers$', 'noun'),(r'.*-[0-9]$', 'noun'),     \n",
    "                (r'.*ing$', 'verb'),(r'.*is$', 'verb'),(r'.*ed$', 'verb'),\n",
    "                (r'.*to$', 'prt'),(r'.*and$', 'conj'),(r'.*or$', 'conj'),\n",
    "                (r'.*of$', 'adp'),(r'.*hat$', 'det'),(r'.*her$', 'adj'),(r'.*ent$', 'noun'),(r'.*\\'t$', 'adj'),\n",
    "                (r'^-?[0-9]+(.[0-9]+)?$', 'num'),(r'.*[0-9]$', 'x'),(r'.*[0-9]', 'num'),(r'.*', 'noun')]\n",
    "    \n",
    "    # we have defined a general Rule for words which are not satisfying the above rules, will be assgined to the noun tag\n",
    "        # since noun is the most probabale TAG\n",
    "        \n",
    "    regexp_tagger = nltk.RegexpTagger(patterns)\n",
    "    return regexp_tagger.tag([word])[0][1]"
   ]
  },
  {
   "cell_type": "code",
   "execution_count": 37,
   "metadata": {},
   "outputs": [],
   "source": [
    "def ruleBased_Viterbi(words, train_bag = train_tagged_words):\n",
    "    state = []\n",
    "    T = list(set([pair[1] for pair in train_bag]))\n",
    "    for key, word in enumerate(words):\n",
    "        #initialise list of probability column for a given observation\n",
    "        \n",
    "        p = [] \n",
    "        for tag in T:\n",
    "            if key == 0:\n",
    "                transition_p = tags_df.loc['.', tag]\n",
    "            else:\n",
    "                transition_p = tags_df.loc[state[-1], tag]\n",
    "            emission_p = word_given_tag(words[key], tag)[0]/word_given_tag(words[key], tag)[1]\n",
    "            state_probability = emission_p * transition_p \n",
    "            p.append(state_probability)\n",
    "        pmax = max(p)\n",
    "        # To Handle unknown words\n",
    "        if pmax == 0:\n",
    "            state_max = regexTag(word)\n",
    "        else:\n",
    "            state_max = T[p.index(pmax)] \n",
    "        state.append(state_max)\n",
    "    return list(zip(words, state)) "
   ]
  },
  {
   "cell_type": "code",
   "execution_count": 38,
   "metadata": {
    "scrolled": true
   },
   "outputs": [],
   "source": [
    "# tagging the test sentences\n",
    "start = time.time()\n",
    "tagged_seq_ruleBased = ruleBased_Viterbi(test_tagged_words)\n",
    "end = time.time()"
   ]
  },
  {
   "cell_type": "markdown",
   "metadata": {},
   "source": [
    "#### Evaluating tagging accuracy of Rule Based Tagger"
   ]
  },
  {
   "cell_type": "code",
   "execution_count": 39,
   "metadata": {},
   "outputs": [
    {
     "name": "stdout",
     "output_type": "stream",
     "text": [
      "Time taken in seconds: 62.32636213302612\n",
      "Accuracy of valid data after Rule Based Models: 96.17\n",
      "Increase in the Accuracy: 6.56\n"
     ]
    }
   ],
   "source": [
    "# accuracy\n",
    "check = [i for i, j in zip(tagged_seq_ruleBased, test_run_base) if i == j] \n",
    "rule_accuracy = len(check)/len(tagged_seq_ruleBased)\n",
    "\n",
    "print(f\"Time taken in seconds: {end-start}\")\n",
    "print(f\"Accuracy of valid data after Rule Based Models: {round(rule_accuracy *100,2)}\")\n",
    "print(f\"Increase in the Accuracy: {round((rule_accuracy - venila_accuracy)*100 ,2)}\")"
   ]
  },
  {
   "cell_type": "code",
   "execution_count": 40,
   "metadata": {},
   "outputs": [
    {
     "data": {
      "text/plain": [
       "[[(',', '.'), (('conn.based', 'verb'), ('conn.based', 'adj'))],\n",
       " [(',', '.'), (('conn.based', 'verb'), ('conn.based', 'adj'))],\n",
       " [('and', 'conj'), (('diming', 'verb'), ('diming', 'noun'))],\n",
       " [('year', 'noun'), (('earlier', 'adv'), ('earlier', 'adj'))],\n",
       " [('fourth-quarter', 'noun'), (('pre-tax', 'noun'), ('pre-tax', 'adj'))],\n",
       " [('estimated', 'verb'), (('that', 'det'), ('that', 'adp'))],\n",
       " [('a', 'det'), (('training-wage', 'noun'), ('training-wage', 'adj'))]]"
      ]
     },
     "execution_count": 40,
     "metadata": {},
     "output_type": "execute_result"
    }
   ],
   "source": [
    "rule_incrrocet_Words,rule_known_words,rule_unknown_words,rule_unknown_tags = find_incorrectWord(tagged_seq_ruleBased)\n",
    "\n",
    "rule_incrrocet_Words"
   ]
  },
  {
   "cell_type": "markdown",
   "metadata": {},
   "source": [
    "<font color = 'blue'> These are the words which are tagged incorrectly"
   ]
  },
  {
   "cell_type": "code",
   "execution_count": 41,
   "metadata": {
    "scrolled": true
   },
   "outputs": [
    {
     "name": "stdout",
     "output_type": "stream",
     "text": [
      "Words which are know and tagged incorrectly: \n",
      " ['earlier', 'that'] \n",
      "\n",
      "Words which are unknown and tagged incorrectly: \n",
      " ['training-wage', 'diming', 'conn.based', 'pre-tax', 'conn.based'] \n",
      "\n"
     ]
    }
   ],
   "source": [
    "print(\"Words which are know and tagged incorrectly: \\n\",rule_known_words,\"\\n\")\n",
    "\n",
    "print(\"Words which are unknown and tagged incorrectly: \\n\",rule_unknown_words,\"\\n\")\n"
   ]
  },
  {
   "cell_type": "code",
   "execution_count": 42,
   "metadata": {},
   "outputs": [
    {
     "name": "stdout",
     "output_type": "stream",
     "text": [
      "Words which are unknown and tagged incorrectly: \n",
      "\n",
      "[[(',', '.'), (('conn.based', 'verb'), ('conn.based', 'adj'))],\n",
      " [(',', '.'), (('conn.based', 'verb'), ('conn.based', 'adj'))],\n",
      " [('and', 'conj'), (('diming', 'verb'), ('diming', 'noun'))],\n",
      " [('fourth-quarter', 'noun'), (('pre-tax', 'noun'), ('pre-tax', 'adj'))],\n",
      " [('a', 'det'), (('training-wage', 'noun'), ('training-wage', 'adj'))]]\n"
     ]
    }
   ],
   "source": [
    "print(\"Words which are unknown and tagged incorrectly: \\n\")\n",
    "pprint(Sort_Tuple(rule_unknown_tags))"
   ]
  },
  {
   "cell_type": "markdown",
   "metadata": {},
   "source": [
    "### Compare the tagging accuracies after handling unknown words of  the vanilla Viterbi algorithm"
   ]
  },
  {
   "cell_type": "code",
   "execution_count": 43,
   "metadata": {
    "scrolled": true
   },
   "outputs": [
    {
     "name": "stdout",
     "output_type": "stream",
     "text": [
      " Accuracy of Venila Viterbi Algo: 89.62\n",
      " Accuracy of Viterbi based on Transition Prob: 91.8\n",
      " Accuracy of Viterbi based on Rule Based:96.17\n"
     ]
    }
   ],
   "source": [
    "print(f\" Accuracy of Venila Viterbi Algo: {round(venila_accuracy*100,2)}\\n\"\n",
    "      ,f\"Accuracy of Viterbi based on Transition Prob: {round(trans_accuracy*100,2)}\\n\"\n",
    "       ,f\"Accuracy of Viterbi based on Rule Based:{round(rule_accuracy*100,2)}\")"
   ]
  },
  {
   "cell_type": "markdown",
   "metadata": {},
   "source": [
    "## <font color = ' blue'>We could see there is difference in the Accuracy of venila and modified viterbi and Rule Based on validation Set"
   ]
  },
  {
   "cell_type": "markdown",
   "metadata": {},
   "source": [
    "### List down cases which were incorrectly tagged by original POS tagger and got corrected by your modifications"
   ]
  },
  {
   "cell_type": "code",
   "execution_count": 44,
   "metadata": {},
   "outputs": [
    {
     "data": {
      "text/plain": [
       "{'adjustments', 'adopting', 'diming'}"
      ]
     },
     "execution_count": 44,
     "metadata": {},
     "output_type": "execute_result"
    }
   ],
   "source": [
    "# Words which are tagged wrongly / unknown in viterbi and corrected on Transition probability\n",
    "wrds_correctedByTrans = set(venila_unknown_words) - set(trans_unknown_words)\n",
    "wrds_correctedByTrans"
   ]
  },
  {
   "cell_type": "code",
   "execution_count": 45,
   "metadata": {},
   "outputs": [
    {
     "data": {
      "text/plain": [
       "{'6.4',\n",
       " '8.2',\n",
       " 'adjustments',\n",
       " 'adopting',\n",
       " 'asset-valuation',\n",
       " 'magnified',\n",
       " 'nonrecurring'}"
      ]
     },
     "execution_count": 45,
     "metadata": {},
     "output_type": "execute_result"
    }
   ],
   "source": [
    "wrds_correctedByRule = set(venila_unknown_words) - set(rule_unknown_words)\n",
    "wrds_correctedByRule"
   ]
  },
  {
   "cell_type": "markdown",
   "metadata": {},
   "source": [
    "### Sample Test Evaluation"
   ]
  },
  {
   "cell_type": "code",
   "execution_count": 46,
   "metadata": {},
   "outputs": [],
   "source": [
    "# Read input file for test sample\n",
    "text = open('Test_sentences.txt', 'r').read()"
   ]
  },
  {
   "cell_type": "code",
   "execution_count": 47,
   "metadata": {},
   "outputs": [],
   "source": [
    "tagged = []\n",
    "sent_text = nltk.sent_tokenize(text) # this gives us a list of sentences\n",
    "# now loop over each sentence and tokenize it separately\n",
    "for sentence in sent_text:\n",
    "    tokenized_text = nltk.word_tokenize(sentence)\n",
    "    inner_list = nltk.pos_tag(tokenized_text,tagset='universal')\n",
    "    tagged.append(inner_list)"
   ]
  },
  {
   "cell_type": "code",
   "execution_count": 48,
   "metadata": {},
   "outputs": [],
   "source": [
    "#Change to lowercase\n",
    "lower = []\n",
    "for a in tagged:\n",
    "    l = []\n",
    "    for x,y in a:\n",
    "        l.append((x.lower(),y.lower()))\n",
    "    lower.append(l)\n",
    "tagged_lower = lower"
   ]
  },
  {
   "cell_type": "code",
   "execution_count": 49,
   "metadata": {},
   "outputs": [],
   "source": [
    "# tagging the test sentences\n",
    "# list of tagged words\n",
    "sample_run_base = [tup for sent in tagged_lower for tup in sent]\n",
    "\n",
    "# list of untagged words\n",
    "sample_tagged_words = [tup[0] for sent in tagged_lower for tup in sent]"
   ]
  },
  {
   "cell_type": "markdown",
   "metadata": {},
   "source": [
    "### Running Venila Viterbi On Sample Test File"
   ]
  },
  {
   "cell_type": "code",
   "execution_count": 50,
   "metadata": {},
   "outputs": [
    {
     "name": "stdout",
     "output_type": "stream",
     "text": [
      "Time taken in seconds:  58.497602224349976\n"
     ]
    }
   ],
   "source": [
    "# tagging the test sentences\n",
    "start = time.time()\n",
    "sample_venila_tagged_seq = venila_Viterbi(sample_tagged_words)\n",
    "end = time.time()\n",
    "print(\"Time taken in seconds: \", end - start)"
   ]
  },
  {
   "cell_type": "markdown",
   "metadata": {},
   "source": [
    "#### Evaluating tagging accuracy in Venila Viterbi"
   ]
  },
  {
   "cell_type": "code",
   "execution_count": 51,
   "metadata": {},
   "outputs": [
    {
     "name": "stdout",
     "output_type": "stream",
     "text": [
      "Accuracy of valid data in Venila Viterbi: 75.14\n"
     ]
    }
   ],
   "source": [
    "# accuracy\n",
    "check = [i for i, j in zip(sample_venila_tagged_seq, sample_run_base) if i == j] \n",
    "sample_venila_accuracy = len(check)/len(sample_venila_tagged_seq)\n",
    "print(f\"Accuracy of valid data in Venila Viterbi: {round(sample_venila_accuracy *100,2)}\")"
   ]
  },
  {
   "cell_type": "code",
   "execution_count": 52,
   "metadata": {},
   "outputs": [
    {
     "name": "stdout",
     "output_type": "stream",
     "text": [
      "Words which are know and tagged incorrectly: \n",
      " ['that', \"'s\", 'international', '11th', 'show', 'like', 'show', 'about', 'experience'] \n",
      "\n",
      "Words which are unknown and tagged incorrectly: \n",
      " ['android', 'google', 'android', 'os', 'worldwide', 'smartphones', '2011', '2013', 'google', 'twitter', '2015', 'google', 'twitter', 'firehose', 'twitter', 'online', 'interact', 'messages', 'tweets', 'domineering', 'personality', '2018', 'fifa', 'cup', '21st', 'fifa', 'cup', 'tournament', 'contested', 'cup', 'trips', 'arriving', 'nasa', 'invited', 'icesat-2', 'satellite'] \n",
      "\n"
     ]
    }
   ],
   "source": [
    "sample_venila_incrrocet_Words,sample_venila_known_words,sample_venila_unknown_words,sample_venila_unknown_tags = find_incorrectWord(sample_venila_tagged_seq,sample_run_base)\n",
    "\n",
    "print(\"Words which are know and tagged incorrectly: \\n\",sample_venila_known_words,\"\\n\")\n",
    "\n",
    "print(\"Words which are unknown and tagged incorrectly: \\n\",sample_venila_unknown_words,\"\\n\")"
   ]
  },
  {
   "cell_type": "markdown",
   "metadata": {},
   "source": [
    "<font color = 'blue'> These are the words which are tagged incorrectly"
   ]
  },
  {
   "cell_type": "markdown",
   "metadata": {},
   "source": [
    "## viterbi based on Transition Probability"
   ]
  },
  {
   "cell_type": "code",
   "execution_count": 53,
   "metadata": {},
   "outputs": [
    {
     "name": "stdout",
     "output_type": "stream",
     "text": [
      "Time taken in seconds:  58.93448853492737\n"
     ]
    }
   ],
   "source": [
    "# tagging the test sentences\n",
    "start = time.time()\n",
    "sample_unknow_trans_seq = unknow_Trans_Viterbi(sample_tagged_words)\n",
    "end = time.time()\n",
    "print(\"Time taken in seconds: \", end - start)"
   ]
  },
  {
   "cell_type": "markdown",
   "metadata": {},
   "source": [
    "#### Evaluating tagging accuracy after using transition Probability"
   ]
  },
  {
   "cell_type": "code",
   "execution_count": 54,
   "metadata": {},
   "outputs": [
    {
     "name": "stdout",
     "output_type": "stream",
     "text": [
      "Accuracy of valid data after using transcition Probability: 86.19\n",
      "Increase in the Accuracy: 11.05\n"
     ]
    }
   ],
   "source": [
    "# accuracy\n",
    "check = [i for i, j in zip(sample_unknow_trans_seq, sample_run_base) if i == j] \n",
    "sample_trans_accuracy = len(check)/len(sample_unknow_trans_seq)\n",
    "\n",
    "print(f\"Accuracy of valid data after using transcition Probability: {round(sample_trans_accuracy *100,2)}\")\n",
    "print(f\"Increase in the Accuracy: {round((sample_trans_accuracy - sample_venila_accuracy)*100 ,2)}\")"
   ]
  },
  {
   "cell_type": "code",
   "execution_count": 55,
   "metadata": {},
   "outputs": [
    {
     "data": {
      "text/plain": [
       "[[('the', 'det'), (('11th', 'adj'), ('11th', 'num'))],\n",
       " [('since', 'adp'), (('2011', 'det'), ('2011', 'num'))],\n",
       " [('since', 'adp'), (('2013', 'det'), ('2013', 'num'))],\n",
       " [('in', 'adp'), (('2015', 'det'), ('2015', 'num'))],\n",
       " [('the', 'det'), (('2018', 'noun'), ('2018', 'num'))],\n",
       " [('the', 'det'), (('21st', 'noun'), ('21st', 'num'))],\n",
       " [('at', 'adp'), (('about', 'adp'), ('about', 'adv'))],\n",
       " [('tournament', 'noun'), (('contested', 'noun'), ('contested', 'verb'))],\n",
       " [('a', 'det'), (('domineering', 'noun'), ('domineering', 'adj'))],\n",
       " [('to', 'prt'), (('experience', 'noun'), ('experience', 'verb'))],\n",
       " [(\"'s\", 'prt'), (('firehose', 'verb'), ('firehose', 'noun'))],\n",
       " [('by', 'adp'), (('google', 'det'), ('google', 'noun'))],\n",
       " [('gave', 'verb'), (('google', 'x'), ('google', 'noun'))],\n",
       " [('of', 'adp'), (('icesat-2', 'det'), ('icesat-2', 'noun'))],\n",
       " [('an', 'det'), (('international', 'noun'), ('international', 'adj'))],\n",
       " [('nasa', 'noun'), (('invited', 'noun'), ('invited', 'verb'))],\n",
       " [('would', 'verb'), (('like', 'adp'), ('like', 'verb'))],\n",
       " [('with', 'adp'), (('messages', 'det'), ('messages', 'noun'))],\n",
       " [('an', 'det'), (('online', 'noun'), ('online', 'adj'))],\n",
       " [('.', '.'), (('show', 'noun'), ('show', 'verb'))],\n",
       " [('.', '.'), (('show', 'noun'), ('show', 'verb'))],\n",
       " [('on', 'adp'), (('smartphones', 'det'), ('smartphones', 'noun'))],\n",
       " [('2015', 'num'), (('that', 'adp'), ('that', 'det'))],\n",
       " [('as', 'adp'), (('tweets', 'det'), ('tweets', 'noun'))],\n",
       " [('to', 'prt'), (('twitter', 'verb'), ('twitter', 'noun'))]]"
      ]
     },
     "execution_count": 55,
     "metadata": {},
     "output_type": "execute_result"
    }
   ],
   "source": [
    "sample_trans_incorrect_Words,sample_trans_known_words,sample_trans_unknown_words,sample_trans_unknown_tags = find_incorrectWord(sample_unknow_trans_seq,sample_run_base)\n",
    "sample_trans_incorrect_Words"
   ]
  },
  {
   "cell_type": "markdown",
   "metadata": {},
   "source": [
    "<font color = 'blue'> These are the words which are tagged incorrectly after using Transition Porbability"
   ]
  },
  {
   "cell_type": "code",
   "execution_count": 56,
   "metadata": {
    "scrolled": true
   },
   "outputs": [
    {
     "name": "stdout",
     "output_type": "stream",
     "text": [
      "Words which are know and tagged : \n",
      " ['that', 'international', '11th', 'show', 'like', 'show', 'about', 'experience'] \n",
      "\n",
      "Words which are unknown and tagged incorrectly: \n",
      " ['google', 'smartphones', '2011', '2013', '2015', 'google', 'twitter', 'firehose', 'online', 'messages', 'tweets', 'domineering', '2018', '21st', 'contested', 'invited', 'icesat-2'] \n",
      "\n"
     ]
    }
   ],
   "source": [
    "print(\"Words which are know and tagged : \\n\",sample_trans_known_words,\"\\n\")\n",
    "\n",
    "print(\"Words which are unknown and tagged incorrectly: \\n\",sample_trans_unknown_words,\"\\n\")"
   ]
  },
  {
   "cell_type": "markdown",
   "metadata": {},
   "source": [
    "## viterbi Based On Rules"
   ]
  },
  {
   "cell_type": "code",
   "execution_count": 57,
   "metadata": {},
   "outputs": [
    {
     "name": "stdout",
     "output_type": "stream",
     "text": [
      "Time taken in seconds:  58.845736026763916\n"
     ]
    }
   ],
   "source": [
    "# tagging the test sentences\n",
    "start = time.time()\n",
    "sample_tagged_seq_ruleBased = ruleBased_Viterbi(sample_tagged_words)\n",
    "end = time.time()\n",
    "print(\"Time taken in seconds: \", end - start)"
   ]
  },
  {
   "cell_type": "markdown",
   "metadata": {},
   "source": [
    "#### Evaluating tagging accuracy of Rule Based Tagger"
   ]
  },
  {
   "cell_type": "code",
   "execution_count": 58,
   "metadata": {},
   "outputs": [
    {
     "name": "stdout",
     "output_type": "stream",
     "text": [
      "Time taken in seconds: 58.845736026763916\n",
      "Accuracy of valid data after Rule Based Models: 93.92\n",
      "Increase in the Accuracy: 18.78\n"
     ]
    }
   ],
   "source": [
    "# accuracy\n",
    "check = [i for i, j in zip(sample_tagged_seq_ruleBased, sample_run_base) if i == j] \n",
    "sample_rule_accuracy = len(check)/len(sample_tagged_seq_ruleBased)\n",
    "\n",
    "print(f\"Time taken in seconds: {end-start}\")\n",
    "print(f\"Accuracy of valid data after Rule Based Models: {round(sample_rule_accuracy *100,2)}\")\n",
    "print(f\"Increase in the Accuracy: {round((sample_rule_accuracy - sample_venila_accuracy)*100 ,2)}\")"
   ]
  },
  {
   "cell_type": "code",
   "execution_count": 59,
   "metadata": {},
   "outputs": [
    {
     "data": {
      "text/plain": [
       "[[('the', 'det'), (('11th', 'adj'), ('11th', 'num'))],\n",
       " [('at', 'adp'), (('about', 'adp'), ('about', 'adv'))],\n",
       " [('and', 'conj'), (('arriving', 'verb'), ('arriving', 'noun'))],\n",
       " [('a', 'det'), (('domineering', 'verb'), ('domineering', 'adj'))],\n",
       " [('to', 'prt'), (('experience', 'noun'), ('experience', 'verb'))],\n",
       " [('an', 'det'), (('international', 'noun'), ('international', 'adj'))],\n",
       " [('would', 'verb'), (('like', 'adp'), ('like', 'verb'))],\n",
       " [('an', 'det'), (('online', 'noun'), ('online', 'adj'))],\n",
       " [('.', '.'), (('show', 'noun'), ('show', 'verb'))],\n",
       " [('.', '.'), (('show', 'noun'), ('show', 'verb'))],\n",
       " [('2015', 'num'), (('that', 'adp'), ('that', 'det'))]]"
      ]
     },
     "execution_count": 59,
     "metadata": {},
     "output_type": "execute_result"
    }
   ],
   "source": [
    "sample_rule_incrrocet_Words,sample_rule_known_words,sample_rule_unknown_words,sample_rule_unknown_tags = find_incorrectWord(sample_tagged_seq_ruleBased,sample_run_base)\n",
    "\n",
    "sample_rule_incrrocet_Words"
   ]
  },
  {
   "cell_type": "markdown",
   "metadata": {},
   "source": [
    "<font color = 'blue'> These are the words which are tagged incorrectly"
   ]
  },
  {
   "cell_type": "code",
   "execution_count": 60,
   "metadata": {
    "scrolled": true
   },
   "outputs": [
    {
     "name": "stdout",
     "output_type": "stream",
     "text": [
      "Words which are know and tagged incorrectly: \n",
      " ['that', 'international', '11th', 'show', 'like', 'show', 'about', 'experience'] \n",
      "\n",
      "Words which are unknown and tagged incorrectly: \n",
      " ['online', 'domineering', 'arriving'] \n",
      "\n"
     ]
    }
   ],
   "source": [
    "print(\"Words which are know and tagged incorrectly: \\n\",sample_rule_known_words,\"\\n\")\n",
    "\n",
    "print(\"Words which are unknown and tagged incorrectly: \\n\",sample_rule_unknown_words,\"\\n\")"
   ]
  },
  {
   "cell_type": "markdown",
   "metadata": {},
   "source": [
    "### Compare the tagging accuracies of the modifications with the vanilla Viterbi algorithm"
   ]
  },
  {
   "cell_type": "code",
   "execution_count": 61,
   "metadata": {
    "scrolled": true
   },
   "outputs": [
    {
     "name": "stdout",
     "output_type": "stream",
     "text": [
      " Accuracy of Venila Viterbi Algo: 75.14\n",
      " Accuracy of Viterbi based on Transition Prob: 86.19\n",
      " Accuracy of Viterbi based on Rule Based:93.92\n"
     ]
    }
   ],
   "source": [
    "print(f\" Accuracy of Venila Viterbi Algo: {round(sample_venila_accuracy*100,2)}\\n\"\n",
    "      ,f\"Accuracy of Viterbi based on Transition Prob: {round(sample_trans_accuracy*100,2)}\\n\"\n",
    "       ,f\"Accuracy of Viterbi based on Rule Based:{round(sample_rule_accuracy*100,2)}\")"
   ]
  },
  {
   "cell_type": "markdown",
   "metadata": {},
   "source": [
    "## <font color = ' blue'>We could see there is difference in the Accuracy of venila and modified viterbi and Rule Based on Sample / Test Set"
   ]
  },
  {
   "cell_type": "markdown",
   "metadata": {},
   "source": [
    "### List down cases which were incorrectly tagged by original POS tagger and got corrected by your modifications"
   ]
  },
  {
   "cell_type": "code",
   "execution_count": 62,
   "metadata": {},
   "outputs": [
    {
     "data": {
      "text/plain": [
       "{'android',\n",
       " 'arriving',\n",
       " 'cup',\n",
       " 'fifa',\n",
       " 'interact',\n",
       " 'nasa',\n",
       " 'os',\n",
       " 'personality',\n",
       " 'satellite',\n",
       " 'tournament',\n",
       " 'trips',\n",
       " 'worldwide'}"
      ]
     },
     "execution_count": 62,
     "metadata": {},
     "output_type": "execute_result"
    }
   ],
   "source": [
    "# Words which are tagged wrongly / unknown in viterbi and corrected on Transition probability\n",
    "sample_wrds_correctedByTrans = set(sample_venila_unknown_words) - set(sample_trans_unknown_words)\n",
    "sample_wrds_correctedByTrans"
   ]
  },
  {
   "cell_type": "code",
   "execution_count": 63,
   "metadata": {},
   "outputs": [
    {
     "data": {
      "text/plain": [
       "{'2011',\n",
       " '2013',\n",
       " '2015',\n",
       " '2018',\n",
       " '21st',\n",
       " 'android',\n",
       " 'contested',\n",
       " 'cup',\n",
       " 'fifa',\n",
       " 'firehose',\n",
       " 'google',\n",
       " 'icesat-2',\n",
       " 'interact',\n",
       " 'invited',\n",
       " 'messages',\n",
       " 'nasa',\n",
       " 'os',\n",
       " 'personality',\n",
       " 'satellite',\n",
       " 'smartphones',\n",
       " 'tournament',\n",
       " 'trips',\n",
       " 'tweets',\n",
       " 'twitter',\n",
       " 'worldwide'}"
      ]
     },
     "execution_count": 63,
     "metadata": {},
     "output_type": "execute_result"
    }
   ],
   "source": [
    "sample_wrds_correctedByRule = set(sample_venila_unknown_words) - set(sample_rule_unknown_words)\n",
    "sample_wrds_correctedByRule"
   ]
  },
  {
   "cell_type": "code",
   "execution_count": null,
   "metadata": {},
   "outputs": [],
   "source": []
  }
 ],
 "metadata": {
  "kernelspec": {
   "display_name": "Python 3",
   "language": "python",
   "name": "python3"
  },
  "language_info": {
   "codemirror_mode": {
    "name": "ipython",
    "version": 3
   },
   "file_extension": ".py",
   "mimetype": "text/x-python",
   "name": "python",
   "nbconvert_exporter": "python",
   "pygments_lexer": "ipython3",
   "version": "3.7.3"
  }
 },
 "nbformat": 4,
 "nbformat_minor": 2
}
